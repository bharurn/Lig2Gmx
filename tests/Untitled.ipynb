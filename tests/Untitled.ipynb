{
 "cells": [
  {
   "cell_type": "code",
   "execution_count": 1,
   "metadata": {
    "scrolled": false
   },
   "outputs": [],
   "source": [
    "import lig2gmx"
   ]
  },
  {
   "cell_type": "code",
   "execution_count": 2,
   "metadata": {},
   "outputs": [
    {
     "name": "stdout",
     "output_type": "stream",
     "text": [
      "ICT.sdf found!\n",
      "Creating non standard ligand from ICT.sdf..\n",
      "Cleaning sdf..\n",
      "Converting to pdb using Openbabel\n",
      "Adding hydrogens at pH={pH}\n",
      "Assigning correct atom names..\n",
      "Assigning correct chain IDs..\n",
      "Generating topology for the ligand..\n",
      "ICT.prep found!\n",
      "Running AmberTools parmchk on ICT.prep..\n",
      "Output saved to params.frcmod..\n",
      "Running AmberTools LEaP..\n"
     ]
    },
    {
     "ename": "ExecutionError",
     "evalue": "Command attempted tleap -f -\n-I: Adding /Users/raghavan/opt/anaconda3/dat/leap/prep to search path.\n-I: Adding /Users/raghavan/opt/anaconda3/dat/leap/lib to search path.\n-I: Adding /Users/raghavan/opt/anaconda3/dat/leap/parm to search path.\n-I: Adding /Users/raghavan/opt/anaconda3/dat/leap/cmd to search path.\n-f: Source -.\n\nWelcome to LEaP!\n(no leaprc in search path)\nSourcing: /Users/raghavan/opt/anaconda3/dat/leap/cmd/leaprc\n----- Source: /Users/raghavan/opt/anaconda3/dat/leap/cmd/leaprc.gaff\n----- Source of /Users/raghavan/opt/anaconda3/dat/leap/cmd/leaprc.gaff done\nLog file: ./leap.log\nLoading parameters: /Users/raghavan/opt/anaconda3/dat/leap/parm/gaff.dat\nReading title:\nAMBER General Force Field for organic molecules (Version 1.81, May 2017)\nLoading Prep file: ./ICT.prep\nChecking Unit.\n\n/Users/raghavan/opt/anaconda3/bin/teLeap: Warning!\nThe unperturbed charge of the unit (-3.000000) is not zero.\n\n/Users/raghavan/opt/anaconda3/bin/teLeap: Note.\nIgnoring the warning from Unit Checking.\n\nBuilding topology.\nBuilding atom parameters.\nBuilding bond parameters.\nBuilding angle parameters.\nBuilding proper torsion parameters.\nBuilding improper torsion parameters.\nold PREP-specified impropers:\n <ICT 1>:  C2   O1   C1   O2  \n <ICT 1>:  C3   O6   C6   O7  \n <ICT 1>:  C4   O5   C5   O4  \n total 3 improper torsions applied\n 3 improper torsions in old prep form\nBuilding H-Bond parameters.\nIncorporating Non-Bonded adjustments.\nNot Marking per-residue atom chain types.\nMarking per-residue atom chain types.\n (no restraints)\n\tQuit\n\nExiting LEaP: Errors = 0; Warnings = 1; Notes = 1.\n",
     "output_type": "error",
     "traceback": [
      "\u001b[0;31m---------------------------------------------------------------------------\u001b[0m",
      "\u001b[0;31mExecutionError\u001b[0m                            Traceback (most recent call last)",
      "\u001b[0;32m<ipython-input-2-2523f586d08d>\u001b[0m in \u001b[0;36m<module>\u001b[0;34m\u001b[0m\n\u001b[0;32m----> 1\u001b[0;31m \u001b[0mlig\u001b[0m \u001b[0;34m=\u001b[0m \u001b[0mlig2gmx\u001b[0m\u001b[0;34m.\u001b[0m\u001b[0mligand\u001b[0m\u001b[0;34m.\u001b[0m\u001b[0mNonStdLigand\u001b[0m\u001b[0;34m.\u001b[0m\u001b[0mfromFile\u001b[0m\u001b[0;34m(\u001b[0m\u001b[0;34m'ICT.sdf'\u001b[0m\u001b[0;34m)\u001b[0m\u001b[0;34m\u001b[0m\u001b[0;34m\u001b[0m\u001b[0m\n\u001b[0m",
      "\u001b[0;32m~/Work/bin/lig2gmx/lig2gmx/ligand.py\u001b[0m in \u001b[0;36mfromFile\u001b[0;34m(cls, file, pH, prep2pdb)\u001b[0m\n\u001b[1;32m    108\u001b[0m         \u001b[0mprint\u001b[0m\u001b[0;34m(\u001b[0m\u001b[0;34mf\"Creating non standard ligand from {file}..\"\u001b[0m\u001b[0;34m)\u001b[0m\u001b[0;34m\u001b[0m\u001b[0;34m\u001b[0m\u001b[0m\n\u001b[1;32m    109\u001b[0m \u001b[0;34m\u001b[0m\u001b[0m\n\u001b[0;32m--> 110\u001b[0;31m         \u001b[0;32mreturn\u001b[0m \u001b[0mcls\u001b[0m\u001b[0;34m.\u001b[0m\u001b[0m_load\u001b[0m\u001b[0;34m(\u001b[0m\u001b[0mmol\u001b[0m\u001b[0;34m,\u001b[0m \u001b[0mpH\u001b[0m\u001b[0;34m,\u001b[0m \u001b[0mprep2pdb\u001b[0m\u001b[0;34m)\u001b[0m\u001b[0;34m\u001b[0m\u001b[0;34m\u001b[0m\u001b[0m\n\u001b[0m\u001b[1;32m    111\u001b[0m \u001b[0;34m\u001b[0m\u001b[0m\n\u001b[1;32m    112\u001b[0m     \u001b[0;34m@\u001b[0m\u001b[0mstaticmethod\u001b[0m\u001b[0;34m\u001b[0m\u001b[0;34m\u001b[0m\u001b[0m\n",
      "\u001b[0;32m~/Work/bin/lig2gmx/lig2gmx/ligand.py\u001b[0m in \u001b[0;36m_load\u001b[0;34m(cls, mol, pH, prep2pdb)\u001b[0m\n\u001b[1;32m     86\u001b[0m         \u001b[0mpdb\u001b[0m\u001b[0;34m,\u001b[0m \u001b[0mchains\u001b[0m\u001b[0;34m,\u001b[0m \u001b[0mmol_name\u001b[0m\u001b[0;34m,\u001b[0m \u001b[0melems\u001b[0m \u001b[0;34m=\u001b[0m \u001b[0m_addH\u001b[0m\u001b[0;34m.\u001b[0m\u001b[0mdo\u001b[0m\u001b[0;34m(\u001b[0m\u001b[0mmol\u001b[0m\u001b[0;34m,\u001b[0m \u001b[0mpH\u001b[0m\u001b[0;34m)\u001b[0m\u001b[0;34m\u001b[0m\u001b[0;34m\u001b[0m\u001b[0m\n\u001b[1;32m     87\u001b[0m \u001b[0;34m\u001b[0m\u001b[0m\n\u001b[0;32m---> 88\u001b[0;31m         \u001b[0mitp\u001b[0m\u001b[0;34m,\u001b[0m \u001b[0mposre\u001b[0m\u001b[0;34m,\u001b[0m \u001b[0matm_types\u001b[0m \u001b[0;34m=\u001b[0m \u001b[0m_getItp\u001b[0m\u001b[0;34m.\u001b[0m\u001b[0mdo\u001b[0m\u001b[0;34m(\u001b[0m\u001b[0mmol_name\u001b[0m\u001b[0;34m,\u001b[0m \u001b[0mprep2pdb\u001b[0m\u001b[0;34m)\u001b[0m\u001b[0;34m\u001b[0m\u001b[0;34m\u001b[0m\u001b[0m\n\u001b[0m\u001b[1;32m     89\u001b[0m \u001b[0;34m\u001b[0m\u001b[0m\n\u001b[1;32m     90\u001b[0m         \u001b[0mlig\u001b[0m \u001b[0;34m=\u001b[0m \u001b[0mcls\u001b[0m\u001b[0;34m(\u001b[0m\u001b[0mpdb\u001b[0m\u001b[0;34m,\u001b[0m \u001b[0mitp\u001b[0m\u001b[0;34m,\u001b[0m \u001b[0mposre\u001b[0m\u001b[0;34m,\u001b[0m \u001b[0mchains\u001b[0m\u001b[0;34m,\u001b[0m \u001b[0mmol_name\u001b[0m\u001b[0;34m,\u001b[0m \u001b[0melems\u001b[0m\u001b[0;34m,\u001b[0m \u001b[0matm_types\u001b[0m\u001b[0;34m)\u001b[0m\u001b[0;34m\u001b[0m\u001b[0;34m\u001b[0m\u001b[0m\n",
      "\u001b[0;32m~/Work/bin/lig2gmx/lig2gmx/_getItp.py\u001b[0m in \u001b[0;36mdo\u001b[0;34m(mol, conv)\u001b[0m\n\u001b[1;32m    109\u001b[0m     \u001b[0m_global\u001b[0m\u001b[0;34m.\u001b[0m\u001b[0mlogger\u001b[0m\u001b[0;34m.\u001b[0m\u001b[0mwrite\u001b[0m\u001b[0;34m(\u001b[0m\u001b[0;34m'info'\u001b[0m\u001b[0;34m,\u001b[0m \u001b[0;34m\"Running AmberTools LEaP..\"\u001b[0m\u001b[0;34m)\u001b[0m\u001b[0;34m\u001b[0m\u001b[0;34m\u001b[0m\u001b[0m\n\u001b[1;32m    110\u001b[0m     \u001b[0mcmd\u001b[0m \u001b[0;34m=\u001b[0m \u001b[0;34mf'{_global.tleap} -f -'\u001b[0m\u001b[0;34m\u001b[0m\u001b[0;34m\u001b[0m\u001b[0m\n\u001b[0;32m--> 111\u001b[0;31m     \u001b[0moutput\u001b[0m \u001b[0;34m=\u001b[0m \u001b[0m_global\u001b[0m\u001b[0;34m.\u001b[0m\u001b[0mhost\u001b[0m\u001b[0;34m.\u001b[0m\u001b[0mrun\u001b[0m\u001b[0;34m(\u001b[0m\u001b[0mcmd\u001b[0m\u001b[0;34m,\u001b[0m \u001b[0mstdin\u001b[0m\u001b[0;34m=\u001b[0m\u001b[0mtleap_in\u001b[0m\u001b[0;34m)\u001b[0m\u001b[0;34m\u001b[0m\u001b[0;34m\u001b[0m\u001b[0m\n\u001b[0m\u001b[1;32m    112\u001b[0m \u001b[0;34m\u001b[0m\u001b[0m\n\u001b[1;32m    113\u001b[0m     \u001b[0mlog\u001b[0m \u001b[0;34m=\u001b[0m \u001b[0;34m'\\n Running'\u001b[0m\u001b[0;34m+\u001b[0m \u001b[0mtleap_in\u001b[0m \u001b[0;34m+\u001b[0m \u001b[0;34m'..\\n'\u001b[0m \u001b[0;34m+\u001b[0m \u001b[0moutput\u001b[0m \u001b[0;34m+\u001b[0m \u001b[0;34m'\\n'\u001b[0m\u001b[0;34m\u001b[0m\u001b[0;34m\u001b[0m\u001b[0m\n",
      "\u001b[0;32m~/Work/bin/mimicpy/mimicpy/shell/shell.py\u001b[0m in \u001b[0;36mrun\u001b[0;34m(self, cmd, stdin, hook, fresh, dirc)\u001b[0m\n\u001b[1;32m    183\u001b[0m             \u001b[0mreplace\u001b[0m \u001b[0;34m=\u001b[0m \u001b[0mself\u001b[0m\u001b[0;34m.\u001b[0m\u001b[0mloader_out\u001b[0m \u001b[0;31m# remove loader_out cmd from output\u001b[0m\u001b[0;34m\u001b[0m\u001b[0;34m\u001b[0m\u001b[0m\n\u001b[1;32m    184\u001b[0m         \u001b[0;32mif\u001b[0m \u001b[0mdirc\u001b[0m \u001b[0;34m!=\u001b[0m \u001b[0;34m''\u001b[0m\u001b[0;34m:\u001b[0m \u001b[0mcmd\u001b[0m \u001b[0;34m=\u001b[0m \u001b[0;34mf'cd {dirc} ; '\u001b[0m \u001b[0;34m+\u001b[0m \u001b[0mcmd\u001b[0m \u001b[0;31m# move to dirc if specified\u001b[0m\u001b[0;34m\u001b[0m\u001b[0;34m\u001b[0m\u001b[0m\n\u001b[0;32m--> 185\u001b[0;31m         \u001b[0;32mreturn\u001b[0m \u001b[0mlocal\u001b[0m\u001b[0;34m.\u001b[0m\u001b[0mrun\u001b[0m\u001b[0;34m(\u001b[0m\u001b[0mcmd\u001b[0m\u001b[0;34m,\u001b[0m \u001b[0mself\u001b[0m\u001b[0;34m.\u001b[0m\u001b[0mshell_path\u001b[0m\u001b[0;34m,\u001b[0m \u001b[0mreplace\u001b[0m\u001b[0;34m,\u001b[0m \u001b[0mstdin\u001b[0m\u001b[0;34m=\u001b[0m\u001b[0mstdin\u001b[0m\u001b[0;34m,\u001b[0m \u001b[0mhook\u001b[0m\u001b[0;34m=\u001b[0m\u001b[0mhook\u001b[0m\u001b[0;34m)\u001b[0m \u001b[0;31m# call run from _local.py\u001b[0m\u001b[0;34m\u001b[0m\u001b[0;34m\u001b[0m\u001b[0m\n\u001b[0m\u001b[1;32m    186\u001b[0m \u001b[0;34m\u001b[0m\u001b[0m\n\u001b[1;32m    187\u001b[0m     \u001b[0;32mdef\u001b[0m \u001b[0mrunbg\u001b[0m\u001b[0;34m(\u001b[0m\u001b[0mself\u001b[0m\u001b[0;34m,\u001b[0m \u001b[0mcmd\u001b[0m\u001b[0;34m,\u001b[0m \u001b[0mhook\u001b[0m\u001b[0;34m=\u001b[0m\u001b[0;32mNone\u001b[0m\u001b[0;34m,\u001b[0m \u001b[0mfresh\u001b[0m\u001b[0;34m=\u001b[0m\u001b[0;32mFalse\u001b[0m\u001b[0;34m,\u001b[0m \u001b[0mdirc\u001b[0m\u001b[0;34m=\u001b[0m\u001b[0;34m''\u001b[0m\u001b[0;34m,\u001b[0m \u001b[0mquery_rate\u001b[0m\u001b[0;34m=\u001b[0m\u001b[0;36m1\u001b[0m\u001b[0;34m)\u001b[0m\u001b[0;34m:\u001b[0m\u001b[0;34m\u001b[0m\u001b[0;34m\u001b[0m\u001b[0m\n",
      "\u001b[0;32m~/Work/bin/mimicpy/mimicpy/shell/_local.py\u001b[0m in \u001b[0;36mrun\u001b[0;34m(cmd, shell_ex, remove_from_out, stdin, hook)\u001b[0m\n\u001b[1;32m     31\u001b[0m     \u001b[0;32mif\u001b[0m \u001b[0;32mnot\u001b[0m \u001b[0mhook\u001b[0m\u001b[0;34m:\u001b[0m \u001b[0mhook\u001b[0m \u001b[0;34m=\u001b[0m \u001b[0mdefaultHook\u001b[0m\u001b[0;34m\u001b[0m\u001b[0;34m\u001b[0m\u001b[0m\n\u001b[1;32m     32\u001b[0m \u001b[0;34m\u001b[0m\u001b[0m\n\u001b[0;32m---> 33\u001b[0;31m     \u001b[0;32mif\u001b[0m \u001b[0mhook\u001b[0m\u001b[0;34m:\u001b[0m \u001b[0mhook\u001b[0m\u001b[0;34m(\u001b[0m\u001b[0mcmd\u001b[0m\u001b[0;34m.\u001b[0m\u001b[0msplit\u001b[0m\u001b[0;34m(\u001b[0m\u001b[0;34m';'\u001b[0m\u001b[0;34m)\u001b[0m\u001b[0;34m[\u001b[0m\u001b[0;34m-\u001b[0m\u001b[0;36m1\u001b[0m\u001b[0;34m]\u001b[0m\u001b[0;34m,\u001b[0m \u001b[0mout\u001b[0m\u001b[0;34m)\u001b[0m\u001b[0;34m\u001b[0m\u001b[0;34m\u001b[0m\u001b[0m\n\u001b[0m\u001b[1;32m     34\u001b[0m \u001b[0;34m\u001b[0m\u001b[0m\n\u001b[1;32m     35\u001b[0m     \u001b[0;32mreturn\u001b[0m \u001b[0mout\u001b[0m\u001b[0;34m\u001b[0m\u001b[0;34m\u001b[0m\u001b[0m\n",
      "\u001b[0;32m~/Work/bin/mimicpy/mimicpy/utils/errors.py\u001b[0m in \u001b[0;36mdefaultHook\u001b[0;34m(cmd, out)\u001b[0m\n\u001b[1;32m     83\u001b[0m     \u001b[0;34m\"\"\"Default error checking hook called by host\"\"\"\u001b[0m\u001b[0;34m\u001b[0m\u001b[0;34m\u001b[0m\u001b[0m\n\u001b[1;32m     84\u001b[0m     \u001b[0;32mif\u001b[0m \u001b[0;34m'error'\u001b[0m \u001b[0;32min\u001b[0m \u001b[0mout\u001b[0m\u001b[0;34m.\u001b[0m\u001b[0mlower\u001b[0m\u001b[0;34m(\u001b[0m\u001b[0;34m)\u001b[0m \u001b[0;32mor\u001b[0m \u001b[0;34m'not recognisable'\u001b[0m \u001b[0;32min\u001b[0m \u001b[0mout\u001b[0m\u001b[0;34m.\u001b[0m\u001b[0mlower\u001b[0m\u001b[0;34m(\u001b[0m\u001b[0;34m)\u001b[0m \u001b[0;32mor\u001b[0m \u001b[0;34m'not found'\u001b[0m \u001b[0;32min\u001b[0m \u001b[0mout\u001b[0m\u001b[0;34m.\u001b[0m\u001b[0mlower\u001b[0m\u001b[0;34m(\u001b[0m\u001b[0;34m)\u001b[0m\u001b[0;34m:\u001b[0m\u001b[0;34m\u001b[0m\u001b[0;34m\u001b[0m\u001b[0m\n\u001b[0;32m---> 85\u001b[0;31m         \u001b[0;32mraise\u001b[0m \u001b[0mExecutionError\u001b[0m\u001b[0;34m(\u001b[0m\u001b[0mcmd\u001b[0m\u001b[0;34m.\u001b[0m\u001b[0msplit\u001b[0m\u001b[0;34m(\u001b[0m\u001b[0;34m';'\u001b[0m\u001b[0;34m)\u001b[0m\u001b[0;34m[\u001b[0m\u001b[0;34m-\u001b[0m\u001b[0;36m1\u001b[0m\u001b[0;34m]\u001b[0m\u001b[0;34m,\u001b[0m \u001b[0mout\u001b[0m\u001b[0;34m)\u001b[0m\u001b[0;34m\u001b[0m\u001b[0;34m\u001b[0m\u001b[0m\n\u001b[0m\u001b[1;32m     86\u001b[0m \u001b[0;34m\u001b[0m\u001b[0m\n\u001b[1;32m     87\u001b[0m \u001b[0;32mdef\u001b[0m \u001b[0masserter\u001b[0m\u001b[0;34m(\u001b[0m\u001b[0mboolean\u001b[0m\u001b[0;34m,\u001b[0m \u001b[0merror\u001b[0m\u001b[0;34m,\u001b[0m \u001b[0;34m*\u001b[0m\u001b[0margs\u001b[0m\u001b[0;34m,\u001b[0m \u001b[0;34m**\u001b[0m\u001b[0mkwargs\u001b[0m\u001b[0;34m)\u001b[0m\u001b[0;34m:\u001b[0m\u001b[0;34m\u001b[0m\u001b[0;34m\u001b[0m\u001b[0m\n",
      "\u001b[0;31mExecutionError\u001b[0m: Command attempted tleap -f -\n-I: Adding /Users/raghavan/opt/anaconda3/dat/leap/prep to search path.\n-I: Adding /Users/raghavan/opt/anaconda3/dat/leap/lib to search path.\n-I: Adding /Users/raghavan/opt/anaconda3/dat/leap/parm to search path.\n-I: Adding /Users/raghavan/opt/anaconda3/dat/leap/cmd to search path.\n-f: Source -.\n\nWelcome to LEaP!\n(no leaprc in search path)\nSourcing: /Users/raghavan/opt/anaconda3/dat/leap/cmd/leaprc\n----- Source: /Users/raghavan/opt/anaconda3/dat/leap/cmd/leaprc.gaff\n----- Source of /Users/raghavan/opt/anaconda3/dat/leap/cmd/leaprc.gaff done\nLog file: ./leap.log\nLoading parameters: /Users/raghavan/opt/anaconda3/dat/leap/parm/gaff.dat\nReading title:\nAMBER General Force Field for organic molecules (Version 1.81, May 2017)\nLoading Prep file: ./ICT.prep\nChecking Unit.\n\n/Users/raghavan/opt/anaconda3/bin/teLeap: Warning!\nThe unperturbed charge of the unit (-3.000000) is not zero.\n\n/Users/raghavan/opt/anaconda3/bin/teLeap: Note.\nIgnoring the warning from Unit Checking.\n\nBuilding topology.\nBuilding atom parameters.\nBuilding bond parameters.\nBuilding angle parameters.\nBuilding proper torsion parameters.\nBuilding improper torsion parameters.\nold PREP-specified impropers:\n <ICT 1>:  C2   O1   C1   O2  \n <ICT 1>:  C3   O6   C6   O7  \n <ICT 1>:  C4   O5   C5   O4  \n total 3 improper torsions applied\n 3 improper torsions in old prep form\nBuilding H-Bond parameters.\nIncorporating Non-Bonded adjustments.\nNot Marking per-residue atom chain types.\nMarking per-residue atom chain types.\n (no restraints)\n\tQuit\n\nExiting LEaP: Errors = 0; Warnings = 1; Notes = 1.\n"
     ]
    }
   ],
   "source": [
    "lig = lig2gmx.ligand.NonStdLigand.fromFile('ICT.sdf')"
   ]
  },
  {
   "cell_type": "code",
   "execution_count": null,
   "metadata": {},
   "outputs": [],
   "source": []
  }
 ],
 "metadata": {
  "kernelspec": {
   "display_name": "Python 3",
   "language": "python",
   "name": "python3"
  },
  "language_info": {
   "codemirror_mode": {
    "name": "ipython",
    "version": 3
   },
   "file_extension": ".py",
   "mimetype": "text/x-python",
   "name": "python",
   "nbconvert_exporter": "python",
   "pygments_lexer": "ipython3",
   "version": "3.7.4"
  }
 },
 "nbformat": 4,
 "nbformat_minor": 2
}
